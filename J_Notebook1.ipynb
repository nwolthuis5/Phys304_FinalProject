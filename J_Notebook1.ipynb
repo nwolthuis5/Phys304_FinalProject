{
 "cells": [
  {
   "cell_type": "code",
   "execution_count": 9,
   "metadata": {},
   "outputs": [
    {
     "ename": "NameError",
     "evalue": "name 'x1' is not defined",
     "output_type": "error",
     "traceback": [
      "\u001b[0;31m---------------------------------------------------------------------------\u001b[0m",
      "\u001b[0;31mNameError\u001b[0m                                 Traceback (most recent call last)",
      "\u001b[0;32m<ipython-input-9-2503f57ed39d>\u001b[0m in \u001b[0;36m<module>\u001b[0;34m\u001b[0m\n\u001b[1;32m     12\u001b[0m \u001b[0;34m\u001b[0m\u001b[0m\n\u001b[1;32m     13\u001b[0m \u001b[0;31m#dist between 1 and 2 is 23 AU\u001b[0m\u001b[0;34m\u001b[0m\u001b[0;34m\u001b[0m\u001b[0;34m\u001b[0m\u001b[0m\n\u001b[0;32m---> 14\u001b[0;31m \u001b[0marray\u001b[0m \u001b[0;34m=\u001b[0m \u001b[0mnp\u001b[0m\u001b[0;34m.\u001b[0m\u001b[0marray\u001b[0m\u001b[0;34m(\u001b[0m\u001b[0;34m[\u001b[0m\u001b[0mx1\u001b[0m\u001b[0;34m,\u001b[0m \u001b[0my1\u001b[0m\u001b[0;34m,\u001b[0m \u001b[0mx1p\u001b[0m\u001b[0;34m,\u001b[0m \u001b[0my1p\u001b[0m\u001b[0;34m,\u001b[0m \u001b[0mx2\u001b[0m\u001b[0;34m,\u001b[0m \u001b[0my2\u001b[0m\u001b[0;34m,\u001b[0m \u001b[0mx2p\u001b[0m\u001b[0;34m,\u001b[0m \u001b[0my2p\u001b[0m\u001b[0;34m,\u001b[0m \u001b[0mx3\u001b[0m\u001b[0;34m,\u001b[0m \u001b[0my3\u001b[0m\u001b[0;34m,\u001b[0m \u001b[0mx3p\u001b[0m\u001b[0;34m,\u001b[0m \u001b[0my3p\u001b[0m\u001b[0;34m]\u001b[0m\u001b[0;34m,\u001b[0m \u001b[0mfloat\u001b[0m\u001b[0;34m)\u001b[0m\u001b[0;34m\u001b[0m\u001b[0;34m\u001b[0m\u001b[0m\n\u001b[0m\u001b[1;32m     15\u001b[0m \u001b[0;34m\u001b[0m\u001b[0m\n\u001b[1;32m     16\u001b[0m \u001b[0;31m#array = np.array([x1, y1, x1p, y1p, x2, y2, x2p, y2p, x3, y3, x3p, y3p], float)\u001b[0m\u001b[0;34m\u001b[0m\u001b[0;34m\u001b[0m\u001b[0;34m\u001b[0m\u001b[0m\n",
      "\u001b[0;31mNameError\u001b[0m: name 'x1' is not defined"
     ]
    }
   ],
   "source": [
    "import numpy as np\n",
    "import matplotlib.pyplot as plt\n",
    "\n",
    "#Defining Constant\n",
    "G = 6.674*10**(-11) #m^3/kg s^2\n",
    "Msun = 1.989*10**30 #kg\n",
    "AU = 1.496*10**11 #m\n",
    "#1 is ACB, 2 is ACA, 3 is Barnard's\n",
    "M1 = 9.07 * Msun\n",
    "M2 = 1.10 * Msun\n",
    "M3 = 0.144* Msun\n",
    "\n",
    "#dist between 1 and 2 is 23 AU\n",
    "array = np.array([x1, y1, x1p, y1p, x2, y2, x2p, y2p, x3, y3, x3p, y3p], float)\n",
    "\n",
    "#array = np.array([x1, y1, x1p, y1p, x2, y2, x2p, y2p, x3, y3, x3p, y3p], float)\n",
    "\n",
    "r12 = ((x2-x1)**2+(y2-y1)**2)**(1/2)\n",
    "r23 = ((x3-x2)**2+(y3-y2)**2)**(1/2)\n",
    "r13 = ((x3-x1)**2+(y3-y1)**2)**(1/2)"
   ]
  },
  {
   "cell_type": "code",
   "execution_count": 10,
   "metadata": {},
   "outputs": [],
   "source": [
    "#we define a function to represent our system of equations\n",
    "def f(r,t):\n",
    "    #setting vars for M1\n",
    "    u1 = array[0] #x1\n",
    "    u2 = array[1] #y1\n",
    "    u3 = array[2] #x1p\n",
    "    u4 = array[3] #y1p\n",
    "\n",
    "    #setting vars for M2\n",
    "    u5 = array[4] #x2\n",
    "    u6 = array[5] #y2\n",
    "    u7 = array[6] #x2p\n",
    "    u8 = array[7] #y2p\n",
    "\n",
    "    #setting vars for\n",
    "    u9 = array[8] #x3\n",
    "    u10 = array[9] #y3\n",
    "    u11 = array[10] #x3p\n",
    "    u12 = array[11] #y3p\n",
    "\n",
    "#this is for M1\n",
    "    u1p = u3 #deriv of pos is equal to velocity, x version\n",
    "    u2p = u4 #deriv of pos is equal to velocity, y version\n",
    "    u3p = G*M2/(r12**3)*(u5-u1)+G*M3/(r13**3)*(u9-u1) #x acceleration\n",
    "    u4p = G*M2/(r12**3)*(u6-u2)+G*M3/(r13**3)*(u10-u2) #y acceleration\n",
    "\n",
    "#this is for M2\n",
    "    u5p = u7 #deriv of pos is equal to velocity\n",
    "    u6p = u8\n",
    "    u7p = G*M1/(r12**3)*(u1-u5)+G*M3/(r23**3)*(u9-u5)\n",
    "    u8p = G*M1/(r12**3)*(u2-u6)+G*M3/(r23**3)*(u10-u6)\n",
    "\n",
    "#this is for M3\n",
    "    u9p = u11 #deriv of pos is equal to velocity\n",
    "    u10p = u12\n",
    "    u11p = G*M1/(r13**3)*(u1-u9)+G*M2/(r23**3)*(u5-u9)\n",
    "    u12p = G*M1/(r13**3)*(u2-u10)+G*M2/(r23**3)*(u6-u10)\n",
    "\n",
    "    #then we have equations which are our desired outputs\n",
    "    #we can basically treat derivatives as simple variables\n",
    "\n",
    "    return np.array([u1p,u2p,u3p,u4p,u5p,u6p,u7p,u8p,u9p,u10p,u11p,u12p],float)"
   ]
  },
  {
   "cell_type": "code",
   "execution_count": 14,
   "metadata": {},
   "outputs": [
    {
     "ename": "NameError",
     "evalue": "name 'tpoints' is not defined",
     "output_type": "error",
     "traceback": [
      "\u001b[0;31m---------------------------------------------------------------------------\u001b[0m",
      "\u001b[0;31mNameError\u001b[0m                                 Traceback (most recent call last)",
      "\u001b[0;32m<ipython-input-14-ce781a8b6fce>\u001b[0m in \u001b[0;36m<module>\u001b[0;34m\u001b[0m\n\u001b[1;32m      2\u001b[0m \u001b[0ml_x1\u001b[0m\u001b[0;34m,\u001b[0m \u001b[0ml_y1\u001b[0m\u001b[0;34m,\u001b[0m \u001b[0ml_vx1\u001b[0m\u001b[0;34m,\u001b[0m \u001b[0ml_vy1\u001b[0m\u001b[0;34m,\u001b[0m \u001b[0ml_x2\u001b[0m\u001b[0;34m,\u001b[0m \u001b[0ml_y2\u001b[0m\u001b[0;34m,\u001b[0m \u001b[0ml_vx2\u001b[0m\u001b[0;34m,\u001b[0m \u001b[0ml_vy2\u001b[0m\u001b[0;34m,\u001b[0m \u001b[0ml_x3\u001b[0m\u001b[0;34m,\u001b[0m \u001b[0ml_y3\u001b[0m\u001b[0;34m,\u001b[0m \u001b[0ml_vx3\u001b[0m\u001b[0;34m,\u001b[0m \u001b[0ml_vy3\u001b[0m \u001b[0;34m=\u001b[0m \u001b[0;34m[\u001b[0m\u001b[0;34m]\u001b[0m\u001b[0;34m,\u001b[0m \u001b[0;34m[\u001b[0m\u001b[0;34m]\u001b[0m\u001b[0;34m,\u001b[0m \u001b[0;34m[\u001b[0m\u001b[0;34m]\u001b[0m\u001b[0;34m,\u001b[0m \u001b[0;34m[\u001b[0m\u001b[0;34m]\u001b[0m\u001b[0;34m,\u001b[0m \u001b[0;34m[\u001b[0m\u001b[0;34m]\u001b[0m\u001b[0;34m,\u001b[0m \u001b[0;34m[\u001b[0m\u001b[0;34m]\u001b[0m\u001b[0;34m,\u001b[0m \u001b[0;34m[\u001b[0m\u001b[0;34m]\u001b[0m\u001b[0;34m,\u001b[0m \u001b[0;34m[\u001b[0m\u001b[0;34m]\u001b[0m\u001b[0;34m,\u001b[0m \u001b[0;34m[\u001b[0m\u001b[0;34m]\u001b[0m\u001b[0;34m,\u001b[0m \u001b[0;34m[\u001b[0m\u001b[0;34m]\u001b[0m\u001b[0;34m,\u001b[0m \u001b[0;34m[\u001b[0m\u001b[0;34m]\u001b[0m\u001b[0;34m,\u001b[0m \u001b[0;34m[\u001b[0m\u001b[0;34m]\u001b[0m\u001b[0;34m\u001b[0m\u001b[0;34m\u001b[0m\u001b[0m\n\u001b[1;32m      3\u001b[0m \u001b[0;31m#Runge-kutta method\u001b[0m\u001b[0;34m\u001b[0m\u001b[0;34m\u001b[0m\u001b[0;34m\u001b[0m\u001b[0m\n\u001b[0;32m----> 4\u001b[0;31m \u001b[0;32mfor\u001b[0m \u001b[0mt\u001b[0m \u001b[0;32min\u001b[0m \u001b[0mtpoints\u001b[0m\u001b[0;34m:\u001b[0m\u001b[0;34m\u001b[0m\u001b[0;34m\u001b[0m\u001b[0m\n\u001b[0m\u001b[1;32m      5\u001b[0m     \u001b[0;31m#we append the values to the lists\u001b[0m\u001b[0;34m\u001b[0m\u001b[0;34m\u001b[0m\u001b[0;34m\u001b[0m\u001b[0m\n\u001b[1;32m      6\u001b[0m \u001b[0;34m\u001b[0m\u001b[0m\n",
      "\u001b[0;31mNameError\u001b[0m: name 'tpoints' is not defined"
     ]
    }
   ],
   "source": [
    "#making empty lists :(\n",
    "l_x1, l_y1, l_vx1, l_vy1, l_x2, l_y2, l_vx2, l_vy2, l_x3, l_y3, l_vx3, l_vy3 = [], [], [], [], [], [], [], [], [], [], [], []\n",
    "#Runge-kutta method\n",
    "for t in tpoints:\n",
    "    #we append the values to the lists\n",
    "    l_x1.append(array[0])\n",
    "    l_y1.append(array[1])\n",
    "    \n",
    "    #then we run through all our k's\n",
    "    k1 = h*driven(array,t)\n",
    "    k2 = h*driven(array+0.5*k1,t+0.5*h)\n",
    "    k3 = h*driven(array+0.5*k2,t+0.5*h)\n",
    "    k4 = h*driven(array+k3,t+h)\n",
    "    #and add it on to the previous value of array\n",
    "    array += (k1 + 2*k2 + 2*k3 + k4)/6"
   ]
  },
  {
   "cell_type": "code",
   "execution_count": null,
   "metadata": {},
   "outputs": [],
   "source": []
  }
 ],
 "metadata": {
  "kernelspec": {
   "display_name": "python-3.6.8",
   "language": "python",
   "name": "python-3.6.8"
  },
  "language_info": {
   "codemirror_mode": {
    "name": "ipython",
    "version": 3
   },
   "file_extension": ".py",
   "mimetype": "text/x-python",
   "name": "python",
   "nbconvert_exporter": "python",
   "pygments_lexer": "ipython3",
   "version": "3.6.8"
  }
 },
 "nbformat": 4,
 "nbformat_minor": 2
}
